{
  "nbformat": 4,
  "nbformat_minor": 0,
  "metadata": {
    "colab": {
      "name": "ELM_Teste.ipynb",
      "provenance": [],
      "collapsed_sections": [],
      "authorship_tag": "ABX9TyPayA3H6dUbjEcHog3WsX+d",
      "include_colab_link": true
    },
    "kernelspec": {
      "name": "python3",
      "display_name": "Python 3"
    },
    "language_info": {
      "name": "python"
    }
  },
  "cells": [
    {
      "cell_type": "markdown",
      "metadata": {
        "id": "view-in-github",
        "colab_type": "text"
      },
      "source": [
        "<a href=\"https://colab.research.google.com/github/pordeus/phd/blob/main/ELM_Teste.ipynb\" target=\"_parent\"><img src=\"https://colab.research.google.com/assets/colab-badge.svg\" alt=\"Open In Colab\"/></a>"
      ]
    },
    {
      "cell_type": "code",
      "execution_count": 1,
      "metadata": {
        "id": "JPHI2pJ6LgpF"
      },
      "outputs": [],
      "source": [
        "import numpy as np\n",
        "\n",
        "class ELM(object):  \n",
        "    \n",
        "    def __init__(self, inputSize, outputSize, hiddenSize):\n",
        "        \"\"\"\n",
        "        Initialize weight and bias between input layer and hidden layer\n",
        "        Parameters:\n",
        "        inputSize: int\n",
        "            The number of input layer dimensions or features in the training data\n",
        "        outputSize: int\n",
        "            The number of output layer dimensions\n",
        "        hiddenSize: int\n",
        "            The number of hidden layer dimensions        \n",
        "        \"\"\"    \n",
        "\n",
        "        self.inputSize = inputSize\n",
        "        self.outputSize = outputSize\n",
        "        self.hiddenSize = hiddenSize       \n",
        "        \n",
        "        # Initialize random weight with range [-0.5, 0.5]\n",
        "        self.weight = np.matrix(np.random.uniform(-0.5, 0.5, (self.hiddenSize, self.inputSize)))\n",
        "\n",
        "        # Initialize random bias with range [0, 1]\n",
        "        self.bias = np.matrix(np.random.uniform(0, 1, (1, self.hiddenSize)))\n",
        "        \n",
        "        self.H = 0\n",
        "        self.beta = 0\n",
        "\n",
        "    def relu(self, x):\n",
        "        \"\"\"\n",
        "        ReLu activation function\n",
        "        \n",
        "        Parameters:\n",
        "        x: array-like or matrix\n",
        "            The value that the activation output will look for\n",
        "        Returns:      \n",
        "            The results of activation using ReLu function\n",
        "        \"\"\"\n",
        "        return np.maximum(x, 0, x)\n",
        "    def predict(self, X):\n",
        "        \"\"\"\n",
        "        Predict the results of the training process using test data\n",
        "        Parameters:\n",
        "        X: array-like or matrix\n",
        "            Test data that will be used to determine output using ELM\n",
        "        Returns:\n",
        "            Predicted results or outputs from test data\n",
        "        \"\"\"\n",
        "        X = np.matrix(X)\n",
        "        y = self.relu((X * self.weight.T) + self.bias) * self.beta\n",
        "\n",
        "        return y\n",
        "\n",
        "    def train(self, X, y):\n",
        "        \"\"\"\n",
        "        Extreme Learning Machine training process\n",
        "        Parameters:\n",
        "        X: array-like or matrix\n",
        "            Training data that contains the value of each feature\n",
        "        y: array-like or matrix\n",
        "            Training data that contains the value of the target (class)\n",
        "        Returns:\n",
        "            The results of the training process   \n",
        "        \"\"\"\n",
        "\n",
        "        X = np.matrix(X)\n",
        "        y = np.matrix(y)        \n",
        "        \n",
        "        # Calculate hidden layer output matrix (Hinit)\n",
        "        self.H = (X * self.weight.T) + self.bias\n",
        "\n",
        "        # ReLu activation function\n",
        "        self.H = self.relu(self.H)\n",
        "\n",
        "        # Calculate the Moore-Penrose pseudoinverse matriks        \n",
        "        H_moore_penrose = np.linalg.inv(self.H.T * self.H) * self.H.T\n",
        "\n",
        "        # Calculate the output weight matrix beta\n",
        "        self.beta = H_moore_penrose * y\n",
        "\n",
        "        return self.H * self.beta"
      ]
    },
    {
      "cell_type": "code",
      "source": [
        "from sklearn.datasets import load_iris"
      ],
      "metadata": {
        "id": "DBZalIkaL2-I"
      },
      "execution_count": 2,
      "outputs": []
    },
    {
      "cell_type": "code",
      "source": [
        "X, y = load_iris(return_X_y=True)"
      ],
      "metadata": {
        "id": "2jMaRM5-N8s5"
      },
      "execution_count": 21,
      "outputs": []
    },
    {
      "cell_type": "code",
      "source": [
        "flores_dataset = np.concatenate((X,y.reshape(y.shape[0],1)), axis=1)"
      ],
      "metadata": {
        "id": "YeMEEb_1QL05"
      },
      "execution_count": 38,
      "outputs": []
    },
    {
      "cell_type": "code",
      "source": [
        "flores_dataset.shape"
      ],
      "metadata": {
        "colab": {
          "base_uri": "https://localhost:8080/"
        },
        "id": "KNFUvFKYUJCa",
        "outputId": "799f35b3-4165-4c38-edf1-e2975c0b8095"
      },
      "execution_count": 39,
      "outputs": [
        {
          "output_type": "execute_result",
          "data": {
            "text/plain": [
              "(150, 5)"
            ]
          },
          "metadata": {},
          "execution_count": 39
        }
      ]
    },
    {
      "cell_type": "code",
      "source": [
        "np.random.shuffle(flores_dataset)"
      ],
      "metadata": {
        "id": "6tUvU9aCTeR1"
      },
      "execution_count": 40,
      "outputs": []
    },
    {
      "cell_type": "code",
      "source": [
        "X_treino = flores_dataset[:,:4]\n",
        "y_treino = flores_dataset[:,4]\n"
      ],
      "metadata": {
        "id": "GvCnzUWHUhDQ"
      },
      "execution_count": 52,
      "outputs": []
    },
    {
      "cell_type": "code",
      "source": [
        "flores = ELM(4, 1, 1)"
      ],
      "metadata": {
        "id": "nYh-ywkqOAbI"
      },
      "execution_count": 57,
      "outputs": []
    },
    {
      "cell_type": "code",
      "source": [
        "treinamento = flores.train(X_treino,y_treino.reshape(y_treino.shape[0],1))"
      ],
      "metadata": {
        "id": "Ka49X9LXPFro"
      },
      "execution_count": 60,
      "outputs": []
    },
    {
      "cell_type": "code",
      "source": [
        "treinamento.shape"
      ],
      "metadata": {
        "colab": {
          "base_uri": "https://localhost:8080/"
        },
        "id": "c7ggt8ZpWruf",
        "outputId": "c6a67b26-e220-49b6-954b-360d4b36355c"
      },
      "execution_count": 61,
      "outputs": [
        {
          "output_type": "execute_result",
          "data": {
            "text/plain": [
              "(150, 1)"
            ]
          },
          "metadata": {},
          "execution_count": 61
        }
      ]
    }
  ]
}