{
  "nbformat": 4,
  "nbformat_minor": 0,
  "metadata": {
    "colab": {
      "name": "Tamanho ECG Covid.ipynb",
      "provenance": [],
      "collapsed_sections": [],
      "authorship_tag": "ABX9TyMmu/nb0ofsTejGS0usb+fB",
      "include_colab_link": true
    },
    "kernelspec": {
      "name": "python3",
      "display_name": "Python 3"
    },
    "language_info": {
      "name": "python"
    }
  },
  "cells": [
    {
      "cell_type": "markdown",
      "metadata": {
        "id": "view-in-github",
        "colab_type": "text"
      },
      "source": [
        "<a href=\"https://colab.research.google.com/github/pordeus/phd/blob/main/Tamanho_ECG_Covid.ipynb\" target=\"_parent\"><img src=\"https://colab.research.google.com/assets/colab-badge.svg\" alt=\"Open In Colab\"/></a>"
      ]
    },
    {
      "cell_type": "code",
      "execution_count": null,
      "metadata": {
        "id": "1Df50JrumPPU"
      },
      "outputs": [],
      "source": [
        "import scipy.io as sio\n",
        "import os\n",
        "import pandas as pd\n",
        "import numpy as np"
      ]
    },
    {
      "cell_type": "code",
      "source": [
        "from google.colab import drive\n",
        "drive.mount('/content/drive')"
      ],
      "metadata": {
        "colab": {
          "base_uri": "https://localhost:8080/"
        },
        "id": "9FTLH5N7oDWo",
        "outputId": "1fbe1b1b-fb8b-4271-83ec-9c862faa8a26"
      },
      "execution_count": null,
      "outputs": [
        {
          "output_type": "stream",
          "name": "stdout",
          "text": [
            "Mounted at /content/drive\n"
          ]
        }
      ]
    },
    {
      "cell_type": "code",
      "source": [
        "SAMPLING_RATE_HZ = 256\n",
        "MAX_TIME_SIGNAL = 0.5 #minutos\n",
        "patients = []"
      ],
      "metadata": {
        "id": "As_ulHEJnX7y"
      },
      "execution_count": null,
      "outputs": []
    },
    {
      "cell_type": "code",
      "source": [
        "DIRECTORY = \"/content/drive/MyDrive/Doutorado/Coleta VFC - HELV\"\n",
        "qtd_exames = 0\n",
        "feature_vector = pd.DataFrame()\n",
        "maior = 0\n",
        "menor = 5\n",
        "for it in os.scandir(DIRECTORY):\n",
        "  if it.is_file():\n",
        "    if it.path.endswith(\".mat\"):\n",
        "      matlab = sio.loadmat(it.path)\n",
        "      data = matlab[\"ECGch_2\"]#[:SAMPLE_SIZE,0]\n",
        "      tamanho = data.shape[0] / (SAMPLING_RATE_HZ * 60)\n",
        "      if tamanho > maior:\n",
        "        maior = tamanho\n",
        "      if tamanho < menor:\n",
        "        menor = tamanho\n",
        "      print(f\"Arquivo: {it.name} Tamanho(em min): {tamanho}\")\n",
        "print(f\"Maior sinal: {maior}. Menor sinal: {menor} \")"
      ],
      "metadata": {
        "colab": {
          "base_uri": "https://localhost:8080/"
        },
        "id": "sd6B7b_Vnw-S",
        "outputId": "4287be62-f5f1-46d0-cf98-8292064a5878"
      },
      "execution_count": null,
      "outputs": [
        {
          "output_type": "stream",
          "name": "stdout",
          "text": [
            "Arquivo: Maria_da_Conceição_HELV.mat Tamanho(em min): 2.9585286458333333\n",
            "Arquivo: Maria_da_Conceição_HELV_pé.mat Tamanho(em min): 2.9662760416666667\n",
            "Arquivo: Marcos_Antonio_deitado.mat Tamanho(em min): 3.304557291666667\n",
            "Arquivo: Marcos_Antonio_orto.mat Tamanho(em min): 3.4482421875\n",
            "Arquivo: Luiz_Edson_deitado.mat Tamanho(em min): 3.4248697916666666\n",
            "Arquivo: Luiz_Edson_orto.mat Tamanho(em min): 3.4946614583333333\n",
            "Arquivo: Silvestre_Miguel_Pereira_deitado.mat Tamanho(em min): 4.784700520833334\n",
            "Arquivo: Silvestre_Miguel_Pereira_orto.mat Tamanho(em min): 4.707356770833333\n",
            "Arquivo: Paulo_Cesar_HELV_deitado.mat Tamanho(em min): 4.800130208333333\n",
            "Arquivo: Paulo_Cesar_HELV_orto.mat Tamanho(em min): 3.4633463541666667\n",
            "Arquivo: Francisca_das_Chagas_Rocha_HELV_deitado.mat Tamanho(em min): 4.815690104166666\n",
            "Arquivo: Francisca_das_Chagas_Rocha_HELV_orto.mat Tamanho(em min): 3.420703125\n",
            "Arquivo: Marcos_Coelho_Neto_HELV_deitado.mat Tamanho(em min): 3.5141276041666667\n",
            "Arquivo: Marcos_Coelho_Neto_HELV_orto.mat Tamanho(em min): 1.8955729166666666\n",
            "Arquivo: João_de_Deus_Queiroz_HELV_deitado.mat Tamanho(em min): 2.8947265625\n",
            "Arquivo: João_de_Deus_Queiroz_HELV_orto.mat Tamanho(em min): 3.5508463541666666\n",
            "Arquivo: Pedro_Mamede_do_Nascimento_HELV_deitado.mat Tamanho(em min): 0.04837239583333333\n",
            "Arquivo: Pedro_Mamede_do_Nascimento_HELV_orto.mat Tamanho(em min): 3.4692057291666667\n",
            "Arquivo: Antonio_Narcelio_HELV_deitado.mat Tamanho(em min): 4.809700520833333\n",
            "Arquivo: Antonio_Narcelio_HELV_orto.mat Tamanho(em min): 4.815625\n",
            "Arquivo: Raimunda_Tomás_do_Nascimento_deitado.mat Tamanho(em min): 3.6376953125\n",
            "Arquivo: Raimunda_Tomás_do_Nascimento_orto.mat Tamanho(em min): 4.198567708333333\n",
            "Arquivo: Francisco_José_Costa_de_Andrade_orto.mat Tamanho(em min): 4.817578125\n",
            "Arquivo: Francisco_José_Costa_de_Andrade_empé.mat Tamanho(em min): 3.418684895833333\n",
            "Arquivo: Expedita_Moreira_Lima_deitado.mat Tamanho(em min): 4.726432291666667\n",
            "Arquivo: Expedita_Moreira_Lima_orto.mat Tamanho(em min): 4.815559895833333\n",
            "Arquivo: Francisco_Fernandes_da_Silva_deitado.mat Tamanho(em min): 4.803971354166666\n",
            "Arquivo: Francisco_Fernandes_da_Silva_orto.mat Tamanho(em min): 4.815625\n",
            "Arquivo: Neuridan_Cardoso_Saboia_deitado.mat Tamanho(em min): 4.815690104166666\n",
            "Arquivo: Neuridan_Cardoso_Saboia_orto.mat Tamanho(em min): 4.815559895833333\n",
            "Arquivo: José_de_Sousa_Soares_deitado.mat Tamanho(em min): 4.813736979166666\n",
            "Arquivo: José_de_Sousa_Soares_orto.mat Tamanho(em min): 4.817578125\n",
            "Arquivo: Edmilson_Porfirio_de_Lima_deitado.mat Tamanho(em min): 4.788541666666666\n",
            "Arquivo: Edmilson_Porfirio_de_Lima_orto.mat Tamanho(em min): 4.784700520833334\n",
            "Arquivo: Rejeane_Maria_da_Silva_do_Nascimento.mat Tamanho(em min): 2.9547526041666665\n",
            "Arquivo: Rejeane_Maria_da_Silva_do_Nascimento_orto.mat Tamanho(em min): 3.0240885416666665\n",
            "Arquivo: Ricardo_dos_Santosa_Oliveira_deitado.mat Tamanho(em min): 4.811653645833333\n",
            "Arquivo: Ricardo_dos_Santosa_Oliveira_orto.mat Tamanho(em min): 3.041731770833333\n",
            "Arquivo: Jaime_Alves_de_Souza_Sales_deitado.mat Tamanho(em min): 3.0701171875\n",
            "Arquivo: Jaime_Alves_de_Souza_Sales_orto.mat Tamanho(em min): 3.05\n",
            "Arquivo: Hilda_Lopes_Lobato_deitado.mat Tamanho(em min): 4.465299479166666\n",
            "Arquivo: Hilda_Lopes_Lobato_orto.mat Tamanho(em min): 4.81171875\n",
            "Arquivo: Raimundo_Nonato_Vieira_Costa_deiado.mat Tamanho(em min): 4.815625\n",
            "Arquivo: Raimundo_Nonato_Vieira_Costa_orto.mat Tamanho(em min): 4.811783854166666\n",
            "Arquivo: Adalberto_Inacio_dos_Santos_deitado.mat Tamanho(em min): 3.0229166666666667\n",
            "Arquivo: Adalberto_Inacio_dos_Santos_orto.mat Tamanho(em min): 3.0828125\n",
            "Arquivo: José_Williamson_Brigido_deitado.mat Tamanho(em min): 4.712890625\n",
            "Arquivo: José_Williamson_Brigido_orto.mat Tamanho(em min): 3.1425130208333334\n",
            "Arquivo: Maria_Iracema_Saraiva_de_Oliveira_deitado.mat Tamanho(em min): 3.0449869791666666\n",
            "Arquivo: Maria_Iracema_Saraiva_de_Oliveira_orto.mat Tamanho(em min): 3.0156901041666666\n",
            "Arquivo: Soraia_Silva_dos_Santos_deitado.mat Tamanho(em min): 4.817513020833333\n",
            "Arquivo: Soraia_Silva_dos_Santos_orto.mat Tamanho(em min): 4.815559895833333\n",
            "Arquivo: Marta_Maria_Fernandes_do_Nascimento_deitado.mat Tamanho(em min): 3.1303385416666667\n",
            "Arquivo: Marta_Maria_Fernandes_do_Nascimento_orto.mat Tamanho(em min): 3.1080729166666665\n",
            "Arquivo: José_Felix_da_Silva_Filho_deitado.mat Tamanho(em min): 3.1194661458333335\n",
            "Arquivo: José_Felix_da_Silva_Filho_orto.mat Tamanho(em min): 3.026627604166667\n",
            "Arquivo: Francisca_Maria_deitado.mat Tamanho(em min): 2.450065104166667\n",
            "Arquivo: Francisca_Maria_orto.mat Tamanho(em min): 2.6302083333333335\n",
            "Arquivo: Francisco_Antônio_deitado.mat Tamanho(em min): 3.5563151041666665\n",
            "Arquivo: Francisco_Antônio_orto.mat Tamanho(em min): 3.3669921875\n",
            "Maior sinal: 4.817578125. Menor sinal: 0.04837239583333333 \n"
          ]
        }
      ]
    }
  ]
}