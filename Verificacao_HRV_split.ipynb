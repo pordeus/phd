{
  "nbformat": 4,
  "nbformat_minor": 0,
  "metadata": {
    "colab": {
      "name": "Verificacao_HRV_split.ipynb",
      "provenance": [],
      "mount_file_id": "1t1qcpe2mThZ1bZgaRCV__tMgv9wHryPm",
      "authorship_tag": "ABX9TyNYiepKkf8gIoJ0mZkKaLc7",
      "include_colab_link": true
    },
    "kernelspec": {
      "name": "python3",
      "display_name": "Python 3"
    },
    "language_info": {
      "name": "python"
    }
  },
  "cells": [
    {
      "cell_type": "markdown",
      "metadata": {
        "id": "view-in-github",
        "colab_type": "text"
      },
      "source": [
        "<a href=\"https://colab.research.google.com/github/pordeus/phd/blob/main/Verificacao_HRV_split.ipynb\" target=\"_parent\"><img src=\"https://colab.research.google.com/assets/colab-badge.svg\" alt=\"Open In Colab\"/></a>"
      ]
    },
    {
      "cell_type": "code",
      "source": [
        "!pip install neurokit2"
      ],
      "metadata": {
        "colab": {
          "base_uri": "https://localhost:8080/"
        },
        "id": "Nc8SIgYPQOEc",
        "outputId": "1d6842ae-e3a0-4fb6-f2b7-dcf52e28c81b"
      },
      "execution_count": 1,
      "outputs": [
        {
          "output_type": "stream",
          "name": "stdout",
          "text": [
            "Looking in indexes: https://pypi.org/simple, https://us-python.pkg.dev/colab-wheels/public/simple/\n",
            "Collecting neurokit2\n",
            "  Downloading neurokit2-0.2.0-py2.py3-none-any.whl (1.2 MB)\n",
            "\u001b[K     |████████████████████████████████| 1.2 MB 27.7 MB/s \n",
            "\u001b[?25hRequirement already satisfied: matplotlib in /usr/local/lib/python3.7/dist-packages (from neurokit2) (3.2.2)\n",
            "Requirement already satisfied: scikit-learn>=1.0.0 in /usr/local/lib/python3.7/dist-packages (from neurokit2) (1.0.2)\n",
            "Requirement already satisfied: scipy in /usr/local/lib/python3.7/dist-packages (from neurokit2) (1.4.1)\n",
            "Requirement already satisfied: numpy in /usr/local/lib/python3.7/dist-packages (from neurokit2) (1.21.6)\n",
            "Requirement already satisfied: pandas in /usr/local/lib/python3.7/dist-packages (from neurokit2) (1.3.5)\n",
            "Requirement already satisfied: joblib>=0.11 in /usr/local/lib/python3.7/dist-packages (from scikit-learn>=1.0.0->neurokit2) (1.1.0)\n",
            "Requirement already satisfied: threadpoolctl>=2.0.0 in /usr/local/lib/python3.7/dist-packages (from scikit-learn>=1.0.0->neurokit2) (3.1.0)\n",
            "Requirement already satisfied: cycler>=0.10 in /usr/local/lib/python3.7/dist-packages (from matplotlib->neurokit2) (0.11.0)\n",
            "Requirement already satisfied: pyparsing!=2.0.4,!=2.1.2,!=2.1.6,>=2.0.1 in /usr/local/lib/python3.7/dist-packages (from matplotlib->neurokit2) (3.0.9)\n",
            "Requirement already satisfied: kiwisolver>=1.0.1 in /usr/local/lib/python3.7/dist-packages (from matplotlib->neurokit2) (1.4.2)\n",
            "Requirement already satisfied: python-dateutil>=2.1 in /usr/local/lib/python3.7/dist-packages (from matplotlib->neurokit2) (2.8.2)\n",
            "Requirement already satisfied: typing-extensions in /usr/local/lib/python3.7/dist-packages (from kiwisolver>=1.0.1->matplotlib->neurokit2) (4.2.0)\n",
            "Requirement already satisfied: six>=1.5 in /usr/local/lib/python3.7/dist-packages (from python-dateutil>=2.1->matplotlib->neurokit2) (1.15.0)\n",
            "Requirement already satisfied: pytz>=2017.3 in /usr/local/lib/python3.7/dist-packages (from pandas->neurokit2) (2022.1)\n",
            "Installing collected packages: neurokit2\n",
            "Successfully installed neurokit2-0.2.0\n"
          ]
        }
      ]
    },
    {
      "cell_type": "code",
      "execution_count": 2,
      "metadata": {
        "id": "VyGc3vdQQK94"
      },
      "outputs": [],
      "source": [
        "import scipy.io as sio\n",
        "import os\n",
        "import pandas as pd\n",
        "import numpy as np\n",
        "import neurokit2 as nk"
      ]
    },
    {
      "cell_type": "code",
      "source": [
        "SAMPLING_RATE_HZ= 256\n",
        "TIME_SIGNAL = [10, 30, 60]"
      ],
      "metadata": {
        "id": "YmB9QbF9QTDo"
      },
      "execution_count": 3,
      "outputs": []
    },
    {
      "cell_type": "code",
      "source": [
        "matl = sio.loadmat('/content/drive/MyDrive/Doutorado/Coleta VFC - HELV/Francisco_José_Costa_de_Andrade_orto.mat')\n",
        "dados = matl[\"ECGch_2\"]"
      ],
      "metadata": {
        "id": "aW6ACj02QWI7"
      },
      "execution_count": 4,
      "outputs": []
    },
    {
      "cell_type": "code",
      "source": [
        "feature_vector = pd.DataFrame()\n",
        "sinais = []\n",
        "ecg_clean = []\n",
        "ecg_quality = []\n",
        "for size_signal in TIME_SIGNAL:\n",
        "  print(f\" ### ECG de {size_signal} segundos\")\n",
        "  SAMPLE_SIZE = size_signal * SAMPLING_RATE_HZ\n",
        "  qtd = int(dados.size // SAMPLE_SIZE)\n",
        "  analyze_df = pd.DataFrame()\n",
        "  for x in range(0,qtd):\n",
        "    sinais.append(size_signal)\n",
        "    #print(f\"Intervalo de {x*SAMPLE_SIZE} até {(x+1)*SAMPLE_SIZE}\")\n",
        "    data_aux = matl[\"ECGch_2\"][int(x*SAMPLE_SIZE):int((x+1)*SAMPLE_SIZE),0]\n",
        "    ecg_signals, info = nk.ecg_process(data_aux, sampling_rate=SAMPLING_RATE_HZ)\n",
        "    analyze = nk.ecg_analyze(ecg_signals, sampling_rate=SAMPLING_RATE_HZ)\n",
        "    #plot = nk.ecg_plot(ecg_signals[:3000], sampling_rate=SAMPLING_RATE_HZ)\n",
        "    #nk.ecg_intervalrelated(ecg_signals)\n",
        "    ecg_clean.append(ecg_signals[\"ECG_Clean\"])\n",
        "    ecg_quality.append(ecg_signals[\"ECG_Quality\"])\n",
        "    feature_vector = pd.concat((feature_vector, analyze), ignore_index=True)"
      ],
      "metadata": {
        "colab": {
          "base_uri": "https://localhost:8080/"
        },
        "id": "09SgXBV5RtLF",
        "outputId": "cb8cdba4-8ef1-4389-ff9a-6f98c4c92bc4"
      },
      "execution_count": 8,
      "outputs": [
        {
          "output_type": "stream",
          "name": "stdout",
          "text": [
            " ### ECG de 10 segundos\n"
          ]
        },
        {
          "output_type": "stream",
          "name": "stderr",
          "text": [
            "/usr/local/lib/python3.7/dist-packages/neurokit2/hrv/hrv_nonlinear.py:446: NeuroKitWarning: DFA_alpha2 related indices will not be calculated. The maximum duration of the windows provided for the long-term correlation is smaller than the minimum duration of windows. Refer to the `scale` argument in `nk.fractal_dfa()` for more information.\n",
            "  category=NeuroKitWarning,\n",
            "/usr/local/lib/python3.7/dist-packages/neurokit2/complexity/entropy_multiscale.py:347: RuntimeWarning: invalid value encountered in double_scalars\n",
            "  mse = np.trapz(mse) / len(mse)\n",
            "/usr/local/lib/python3.7/dist-packages/neurokit2/complexity/optim_complexity_k.py:134: RuntimeWarning: divide by zero encountered in true_divide\n",
            "  normalization = (n - 1) / (np.floor((n - k_subrange) / k).astype(int) * k)\n",
            "/usr/local/lib/python3.7/dist-packages/neurokit2/complexity/optim_complexity_k.py:135: RuntimeWarning: invalid value encountered in multiply\n",
            "  sets = (np.nansum(np.abs(np.diff(sig_values)), axis=1) * normalization) / k\n",
            "/usr/local/lib/python3.7/dist-packages/neurokit2/hrv/hrv_nonlinear.py:446: NeuroKitWarning: DFA_alpha2 related indices will not be calculated. The maximum duration of the windows provided for the long-term correlation is smaller than the minimum duration of windows. Refer to the `scale` argument in `nk.fractal_dfa()` for more information.\n",
            "  category=NeuroKitWarning,\n",
            "/usr/local/lib/python3.7/dist-packages/neurokit2/complexity/entropy_multiscale.py:347: RuntimeWarning: invalid value encountered in double_scalars\n",
            "  mse = np.trapz(mse) / len(mse)\n",
            "/usr/local/lib/python3.7/dist-packages/neurokit2/complexity/optim_complexity_k.py:134: RuntimeWarning: divide by zero encountered in true_divide\n",
            "  normalization = (n - 1) / (np.floor((n - k_subrange) / k).astype(int) * k)\n",
            "/usr/local/lib/python3.7/dist-packages/neurokit2/complexity/optim_complexity_k.py:135: RuntimeWarning: invalid value encountered in multiply\n",
            "  sets = (np.nansum(np.abs(np.diff(sig_values)), axis=1) * normalization) / k\n",
            "/usr/local/lib/python3.7/dist-packages/neurokit2/hrv/hrv_nonlinear.py:446: NeuroKitWarning: DFA_alpha2 related indices will not be calculated. The maximum duration of the windows provided for the long-term correlation is smaller than the minimum duration of windows. Refer to the `scale` argument in `nk.fractal_dfa()` for more information.\n",
            "  category=NeuroKitWarning,\n",
            "/usr/local/lib/python3.7/dist-packages/neurokit2/complexity/entropy_multiscale.py:347: RuntimeWarning: invalid value encountered in double_scalars\n",
            "  mse = np.trapz(mse) / len(mse)\n",
            "/usr/local/lib/python3.7/dist-packages/neurokit2/complexity/optim_complexity_k.py:134: RuntimeWarning: divide by zero encountered in true_divide\n",
            "  normalization = (n - 1) / (np.floor((n - k_subrange) / k).astype(int) * k)\n",
            "/usr/local/lib/python3.7/dist-packages/neurokit2/complexity/optim_complexity_k.py:135: RuntimeWarning: invalid value encountered in multiply\n",
            "  sets = (np.nansum(np.abs(np.diff(sig_values)), axis=1) * normalization) / k\n",
            "/usr/local/lib/python3.7/dist-packages/neurokit2/hrv/hrv_nonlinear.py:446: NeuroKitWarning: DFA_alpha2 related indices will not be calculated. The maximum duration of the windows provided for the long-term correlation is smaller than the minimum duration of windows. Refer to the `scale` argument in `nk.fractal_dfa()` for more information.\n",
            "  category=NeuroKitWarning,\n",
            "/usr/local/lib/python3.7/dist-packages/neurokit2/complexity/entropy_multiscale.py:347: RuntimeWarning: invalid value encountered in double_scalars\n",
            "  mse = np.trapz(mse) / len(mse)\n",
            "/usr/local/lib/python3.7/dist-packages/neurokit2/complexity/optim_complexity_k.py:134: RuntimeWarning: divide by zero encountered in true_divide\n",
            "  normalization = (n - 1) / (np.floor((n - k_subrange) / k).astype(int) * k)\n",
            "/usr/local/lib/python3.7/dist-packages/neurokit2/complexity/optim_complexity_k.py:135: RuntimeWarning: invalid value encountered in multiply\n",
            "  sets = (np.nansum(np.abs(np.diff(sig_values)), axis=1) * normalization) / k\n",
            "/usr/local/lib/python3.7/dist-packages/neurokit2/hrv/hrv_nonlinear.py:446: NeuroKitWarning: DFA_alpha2 related indices will not be calculated. The maximum duration of the windows provided for the long-term correlation is smaller than the minimum duration of windows. Refer to the `scale` argument in `nk.fractal_dfa()` for more information.\n",
            "  category=NeuroKitWarning,\n",
            "/usr/local/lib/python3.7/dist-packages/neurokit2/complexity/entropy_multiscale.py:347: RuntimeWarning: invalid value encountered in double_scalars\n",
            "  mse = np.trapz(mse) / len(mse)\n",
            "/usr/local/lib/python3.7/dist-packages/neurokit2/complexity/optim_complexity_k.py:134: RuntimeWarning: divide by zero encountered in true_divide\n",
            "  normalization = (n - 1) / (np.floor((n - k_subrange) / k).astype(int) * k)\n",
            "/usr/local/lib/python3.7/dist-packages/neurokit2/complexity/optim_complexity_k.py:135: RuntimeWarning: invalid value encountered in multiply\n",
            "  sets = (np.nansum(np.abs(np.diff(sig_values)), axis=1) * normalization) / k\n",
            "/usr/local/lib/python3.7/dist-packages/neurokit2/hrv/hrv_nonlinear.py:446: NeuroKitWarning: DFA_alpha2 related indices will not be calculated. The maximum duration of the windows provided for the long-term correlation is smaller than the minimum duration of windows. Refer to the `scale` argument in `nk.fractal_dfa()` for more information.\n",
            "  category=NeuroKitWarning,\n",
            "/usr/local/lib/python3.7/dist-packages/neurokit2/complexity/entropy_multiscale.py:347: RuntimeWarning: invalid value encountered in double_scalars\n",
            "  mse = np.trapz(mse) / len(mse)\n",
            "/usr/local/lib/python3.7/dist-packages/neurokit2/complexity/optim_complexity_k.py:134: RuntimeWarning: divide by zero encountered in true_divide\n",
            "  normalization = (n - 1) / (np.floor((n - k_subrange) / k).astype(int) * k)\n",
            "/usr/local/lib/python3.7/dist-packages/neurokit2/complexity/optim_complexity_k.py:135: RuntimeWarning: invalid value encountered in multiply\n",
            "  sets = (np.nansum(np.abs(np.diff(sig_values)), axis=1) * normalization) / k\n",
            "/usr/local/lib/python3.7/dist-packages/neurokit2/complexity/fractal_katz.py:100: RuntimeWarning: divide by zero encountered in double_scalars\n",
            "  kfd = np.log10(length / a) / (np.log10(d / a))\n",
            "/usr/local/lib/python3.7/dist-packages/neurokit2/hrv/hrv_nonlinear.py:446: NeuroKitWarning: DFA_alpha2 related indices will not be calculated. The maximum duration of the windows provided for the long-term correlation is smaller than the minimum duration of windows. Refer to the `scale` argument in `nk.fractal_dfa()` for more information.\n",
            "  category=NeuroKitWarning,\n",
            "/usr/local/lib/python3.7/dist-packages/neurokit2/complexity/entropy_multiscale.py:347: RuntimeWarning: invalid value encountered in double_scalars\n",
            "  mse = np.trapz(mse) / len(mse)\n",
            "/usr/local/lib/python3.7/dist-packages/neurokit2/complexity/optim_complexity_k.py:134: RuntimeWarning: divide by zero encountered in true_divide\n",
            "  normalization = (n - 1) / (np.floor((n - k_subrange) / k).astype(int) * k)\n",
            "/usr/local/lib/python3.7/dist-packages/neurokit2/complexity/optim_complexity_k.py:135: RuntimeWarning: invalid value encountered in multiply\n",
            "  sets = (np.nansum(np.abs(np.diff(sig_values)), axis=1) * normalization) / k\n",
            "/usr/local/lib/python3.7/dist-packages/neurokit2/hrv/hrv_nonlinear.py:446: NeuroKitWarning: DFA_alpha2 related indices will not be calculated. The maximum duration of the windows provided for the long-term correlation is smaller than the minimum duration of windows. Refer to the `scale` argument in `nk.fractal_dfa()` for more information.\n",
            "  category=NeuroKitWarning,\n",
            "/usr/local/lib/python3.7/dist-packages/neurokit2/complexity/entropy_multiscale.py:347: RuntimeWarning: invalid value encountered in double_scalars\n",
            "  mse = np.trapz(mse) / len(mse)\n",
            "/usr/local/lib/python3.7/dist-packages/neurokit2/complexity/optim_complexity_k.py:134: RuntimeWarning: divide by zero encountered in true_divide\n",
            "  normalization = (n - 1) / (np.floor((n - k_subrange) / k).astype(int) * k)\n",
            "/usr/local/lib/python3.7/dist-packages/neurokit2/complexity/optim_complexity_k.py:135: RuntimeWarning: invalid value encountered in multiply\n",
            "  sets = (np.nansum(np.abs(np.diff(sig_values)), axis=1) * normalization) / k\n",
            "/usr/local/lib/python3.7/dist-packages/neurokit2/hrv/hrv_nonlinear.py:446: NeuroKitWarning: DFA_alpha2 related indices will not be calculated. The maximum duration of the windows provided for the long-term correlation is smaller than the minimum duration of windows. Refer to the `scale` argument in `nk.fractal_dfa()` for more information.\n",
            "  category=NeuroKitWarning,\n",
            "/usr/local/lib/python3.7/dist-packages/neurokit2/complexity/entropy_multiscale.py:347: RuntimeWarning: invalid value encountered in double_scalars\n",
            "  mse = np.trapz(mse) / len(mse)\n",
            "/usr/local/lib/python3.7/dist-packages/neurokit2/complexity/optim_complexity_k.py:134: RuntimeWarning: divide by zero encountered in true_divide\n",
            "  normalization = (n - 1) / (np.floor((n - k_subrange) / k).astype(int) * k)\n",
            "/usr/local/lib/python3.7/dist-packages/neurokit2/complexity/optim_complexity_k.py:135: RuntimeWarning: invalid value encountered in multiply\n",
            "  sets = (np.nansum(np.abs(np.diff(sig_values)), axis=1) * normalization) / k\n",
            "/usr/local/lib/python3.7/dist-packages/neurokit2/hrv/hrv_nonlinear.py:446: NeuroKitWarning: DFA_alpha2 related indices will not be calculated. The maximum duration of the windows provided for the long-term correlation is smaller than the minimum duration of windows. Refer to the `scale` argument in `nk.fractal_dfa()` for more information.\n",
            "  category=NeuroKitWarning,\n",
            "/usr/local/lib/python3.7/dist-packages/neurokit2/complexity/entropy_multiscale.py:347: RuntimeWarning: invalid value encountered in double_scalars\n",
            "  mse = np.trapz(mse) / len(mse)\n",
            "/usr/local/lib/python3.7/dist-packages/neurokit2/complexity/optim_complexity_k.py:134: RuntimeWarning: divide by zero encountered in true_divide\n",
            "  normalization = (n - 1) / (np.floor((n - k_subrange) / k).astype(int) * k)\n",
            "/usr/local/lib/python3.7/dist-packages/neurokit2/complexity/optim_complexity_k.py:135: RuntimeWarning: invalid value encountered in multiply\n",
            "  sets = (np.nansum(np.abs(np.diff(sig_values)), axis=1) * normalization) / k\n",
            "/usr/local/lib/python3.7/dist-packages/neurokit2/hrv/hrv_nonlinear.py:446: NeuroKitWarning: DFA_alpha2 related indices will not be calculated. The maximum duration of the windows provided for the long-term correlation is smaller than the minimum duration of windows. Refer to the `scale` argument in `nk.fractal_dfa()` for more information.\n",
            "  category=NeuroKitWarning,\n",
            "/usr/local/lib/python3.7/dist-packages/neurokit2/complexity/entropy_multiscale.py:347: RuntimeWarning: invalid value encountered in double_scalars\n",
            "  mse = np.trapz(mse) / len(mse)\n",
            "/usr/local/lib/python3.7/dist-packages/neurokit2/complexity/optim_complexity_k.py:134: RuntimeWarning: divide by zero encountered in true_divide\n",
            "  normalization = (n - 1) / (np.floor((n - k_subrange) / k).astype(int) * k)\n",
            "/usr/local/lib/python3.7/dist-packages/neurokit2/complexity/optim_complexity_k.py:135: RuntimeWarning: invalid value encountered in multiply\n",
            "  sets = (np.nansum(np.abs(np.diff(sig_values)), axis=1) * normalization) / k\n",
            "/usr/local/lib/python3.7/dist-packages/neurokit2/hrv/hrv_nonlinear.py:446: NeuroKitWarning: DFA_alpha2 related indices will not be calculated. The maximum duration of the windows provided for the long-term correlation is smaller than the minimum duration of windows. Refer to the `scale` argument in `nk.fractal_dfa()` for more information.\n",
            "  category=NeuroKitWarning,\n",
            "/usr/local/lib/python3.7/dist-packages/neurokit2/complexity/entropy_multiscale.py:347: RuntimeWarning: invalid value encountered in double_scalars\n",
            "  mse = np.trapz(mse) / len(mse)\n",
            "/usr/local/lib/python3.7/dist-packages/neurokit2/complexity/optim_complexity_k.py:134: RuntimeWarning: divide by zero encountered in true_divide\n",
            "  normalization = (n - 1) / (np.floor((n - k_subrange) / k).astype(int) * k)\n",
            "/usr/local/lib/python3.7/dist-packages/neurokit2/complexity/optim_complexity_k.py:135: RuntimeWarning: invalid value encountered in multiply\n",
            "  sets = (np.nansum(np.abs(np.diff(sig_values)), axis=1) * normalization) / k\n",
            "/usr/local/lib/python3.7/dist-packages/neurokit2/hrv/hrv_nonlinear.py:446: NeuroKitWarning: DFA_alpha2 related indices will not be calculated. The maximum duration of the windows provided for the long-term correlation is smaller than the minimum duration of windows. Refer to the `scale` argument in `nk.fractal_dfa()` for more information.\n",
            "  category=NeuroKitWarning,\n",
            "/usr/local/lib/python3.7/dist-packages/neurokit2/complexity/entropy_multiscale.py:347: RuntimeWarning: invalid value encountered in double_scalars\n",
            "  mse = np.trapz(mse) / len(mse)\n",
            "/usr/local/lib/python3.7/dist-packages/neurokit2/complexity/optim_complexity_k.py:134: RuntimeWarning: divide by zero encountered in true_divide\n",
            "  normalization = (n - 1) / (np.floor((n - k_subrange) / k).astype(int) * k)\n",
            "/usr/local/lib/python3.7/dist-packages/neurokit2/complexity/optim_complexity_k.py:135: RuntimeWarning: invalid value encountered in multiply\n",
            "  sets = (np.nansum(np.abs(np.diff(sig_values)), axis=1) * normalization) / k\n",
            "/usr/local/lib/python3.7/dist-packages/neurokit2/hrv/hrv_nonlinear.py:446: NeuroKitWarning: DFA_alpha2 related indices will not be calculated. The maximum duration of the windows provided for the long-term correlation is smaller than the minimum duration of windows. Refer to the `scale` argument in `nk.fractal_dfa()` for more information.\n",
            "  category=NeuroKitWarning,\n",
            "/usr/local/lib/python3.7/dist-packages/neurokit2/complexity/entropy_multiscale.py:347: RuntimeWarning: invalid value encountered in double_scalars\n",
            "  mse = np.trapz(mse) / len(mse)\n",
            "/usr/local/lib/python3.7/dist-packages/neurokit2/complexity/optim_complexity_k.py:134: RuntimeWarning: divide by zero encountered in true_divide\n",
            "  normalization = (n - 1) / (np.floor((n - k_subrange) / k).astype(int) * k)\n",
            "/usr/local/lib/python3.7/dist-packages/neurokit2/complexity/optim_complexity_k.py:135: RuntimeWarning: invalid value encountered in multiply\n",
            "  sets = (np.nansum(np.abs(np.diff(sig_values)), axis=1) * normalization) / k\n",
            "/usr/local/lib/python3.7/dist-packages/neurokit2/hrv/hrv_nonlinear.py:446: NeuroKitWarning: DFA_alpha2 related indices will not be calculated. The maximum duration of the windows provided for the long-term correlation is smaller than the minimum duration of windows. Refer to the `scale` argument in `nk.fractal_dfa()` for more information.\n",
            "  category=NeuroKitWarning,\n",
            "/usr/local/lib/python3.7/dist-packages/neurokit2/complexity/entropy_multiscale.py:347: RuntimeWarning: invalid value encountered in double_scalars\n",
            "  mse = np.trapz(mse) / len(mse)\n",
            "/usr/local/lib/python3.7/dist-packages/neurokit2/complexity/optim_complexity_k.py:134: RuntimeWarning: divide by zero encountered in true_divide\n",
            "  normalization = (n - 1) / (np.floor((n - k_subrange) / k).astype(int) * k)\n",
            "/usr/local/lib/python3.7/dist-packages/neurokit2/complexity/optim_complexity_k.py:135: RuntimeWarning: invalid value encountered in multiply\n",
            "  sets = (np.nansum(np.abs(np.diff(sig_values)), axis=1) * normalization) / k\n",
            "/usr/local/lib/python3.7/dist-packages/neurokit2/hrv/hrv_nonlinear.py:446: NeuroKitWarning: DFA_alpha2 related indices will not be calculated. The maximum duration of the windows provided for the long-term correlation is smaller than the minimum duration of windows. Refer to the `scale` argument in `nk.fractal_dfa()` for more information.\n",
            "  category=NeuroKitWarning,\n",
            "/usr/local/lib/python3.7/dist-packages/neurokit2/complexity/entropy_multiscale.py:347: RuntimeWarning: invalid value encountered in double_scalars\n",
            "  mse = np.trapz(mse) / len(mse)\n",
            "/usr/local/lib/python3.7/dist-packages/neurokit2/complexity/optim_complexity_k.py:134: RuntimeWarning: divide by zero encountered in true_divide\n",
            "  normalization = (n - 1) / (np.floor((n - k_subrange) / k).astype(int) * k)\n",
            "/usr/local/lib/python3.7/dist-packages/neurokit2/complexity/optim_complexity_k.py:135: RuntimeWarning: invalid value encountered in multiply\n",
            "  sets = (np.nansum(np.abs(np.diff(sig_values)), axis=1) * normalization) / k\n",
            "/usr/local/lib/python3.7/dist-packages/neurokit2/hrv/hrv_nonlinear.py:446: NeuroKitWarning: DFA_alpha2 related indices will not be calculated. The maximum duration of the windows provided for the long-term correlation is smaller than the minimum duration of windows. Refer to the `scale` argument in `nk.fractal_dfa()` for more information.\n",
            "  category=NeuroKitWarning,\n",
            "/usr/local/lib/python3.7/dist-packages/neurokit2/complexity/entropy_multiscale.py:347: RuntimeWarning: invalid value encountered in double_scalars\n",
            "  mse = np.trapz(mse) / len(mse)\n",
            "/usr/local/lib/python3.7/dist-packages/neurokit2/complexity/optim_complexity_k.py:134: RuntimeWarning: divide by zero encountered in true_divide\n",
            "  normalization = (n - 1) / (np.floor((n - k_subrange) / k).astype(int) * k)\n",
            "/usr/local/lib/python3.7/dist-packages/neurokit2/complexity/optim_complexity_k.py:135: RuntimeWarning: invalid value encountered in multiply\n",
            "  sets = (np.nansum(np.abs(np.diff(sig_values)), axis=1) * normalization) / k\n",
            "/usr/local/lib/python3.7/dist-packages/neurokit2/hrv/hrv_nonlinear.py:446: NeuroKitWarning: DFA_alpha2 related indices will not be calculated. The maximum duration of the windows provided for the long-term correlation is smaller than the minimum duration of windows. Refer to the `scale` argument in `nk.fractal_dfa()` for more information.\n",
            "  category=NeuroKitWarning,\n",
            "/usr/local/lib/python3.7/dist-packages/neurokit2/complexity/entropy_multiscale.py:347: RuntimeWarning: invalid value encountered in double_scalars\n",
            "  mse = np.trapz(mse) / len(mse)\n",
            "/usr/local/lib/python3.7/dist-packages/neurokit2/complexity/optim_complexity_k.py:134: RuntimeWarning: divide by zero encountered in true_divide\n",
            "  normalization = (n - 1) / (np.floor((n - k_subrange) / k).astype(int) * k)\n",
            "/usr/local/lib/python3.7/dist-packages/neurokit2/complexity/optim_complexity_k.py:135: RuntimeWarning: invalid value encountered in multiply\n",
            "  sets = (np.nansum(np.abs(np.diff(sig_values)), axis=1) * normalization) / k\n",
            "/usr/local/lib/python3.7/dist-packages/neurokit2/hrv/hrv_nonlinear.py:446: NeuroKitWarning: DFA_alpha2 related indices will not be calculated. The maximum duration of the windows provided for the long-term correlation is smaller than the minimum duration of windows. Refer to the `scale` argument in `nk.fractal_dfa()` for more information.\n",
            "  category=NeuroKitWarning,\n",
            "/usr/local/lib/python3.7/dist-packages/neurokit2/complexity/entropy_multiscale.py:347: RuntimeWarning: invalid value encountered in double_scalars\n",
            "  mse = np.trapz(mse) / len(mse)\n",
            "/usr/local/lib/python3.7/dist-packages/neurokit2/complexity/optim_complexity_k.py:134: RuntimeWarning: divide by zero encountered in true_divide\n",
            "  normalization = (n - 1) / (np.floor((n - k_subrange) / k).astype(int) * k)\n",
            "/usr/local/lib/python3.7/dist-packages/neurokit2/complexity/optim_complexity_k.py:135: RuntimeWarning: invalid value encountered in multiply\n",
            "  sets = (np.nansum(np.abs(np.diff(sig_values)), axis=1) * normalization) / k\n",
            "/usr/local/lib/python3.7/dist-packages/neurokit2/hrv/hrv_nonlinear.py:446: NeuroKitWarning: DFA_alpha2 related indices will not be calculated. The maximum duration of the windows provided for the long-term correlation is smaller than the minimum duration of windows. Refer to the `scale` argument in `nk.fractal_dfa()` for more information.\n",
            "  category=NeuroKitWarning,\n",
            "/usr/local/lib/python3.7/dist-packages/neurokit2/complexity/entropy_multiscale.py:347: RuntimeWarning: invalid value encountered in double_scalars\n",
            "  mse = np.trapz(mse) / len(mse)\n",
            "/usr/local/lib/python3.7/dist-packages/neurokit2/complexity/optim_complexity_k.py:134: RuntimeWarning: divide by zero encountered in true_divide\n",
            "  normalization = (n - 1) / (np.floor((n - k_subrange) / k).astype(int) * k)\n",
            "/usr/local/lib/python3.7/dist-packages/neurokit2/complexity/optim_complexity_k.py:135: RuntimeWarning: invalid value encountered in multiply\n",
            "  sets = (np.nansum(np.abs(np.diff(sig_values)), axis=1) * normalization) / k\n",
            "/usr/local/lib/python3.7/dist-packages/neurokit2/hrv/hrv_nonlinear.py:446: NeuroKitWarning: DFA_alpha2 related indices will not be calculated. The maximum duration of the windows provided for the long-term correlation is smaller than the minimum duration of windows. Refer to the `scale` argument in `nk.fractal_dfa()` for more information.\n",
            "  category=NeuroKitWarning,\n",
            "/usr/local/lib/python3.7/dist-packages/neurokit2/complexity/entropy_multiscale.py:347: RuntimeWarning: invalid value encountered in double_scalars\n",
            "  mse = np.trapz(mse) / len(mse)\n",
            "/usr/local/lib/python3.7/dist-packages/neurokit2/complexity/optim_complexity_k.py:134: RuntimeWarning: divide by zero encountered in true_divide\n",
            "  normalization = (n - 1) / (np.floor((n - k_subrange) / k).astype(int) * k)\n",
            "/usr/local/lib/python3.7/dist-packages/neurokit2/complexity/optim_complexity_k.py:135: RuntimeWarning: invalid value encountered in multiply\n",
            "  sets = (np.nansum(np.abs(np.diff(sig_values)), axis=1) * normalization) / k\n",
            "/usr/local/lib/python3.7/dist-packages/neurokit2/hrv/hrv_nonlinear.py:446: NeuroKitWarning: DFA_alpha2 related indices will not be calculated. The maximum duration of the windows provided for the long-term correlation is smaller than the minimum duration of windows. Refer to the `scale` argument in `nk.fractal_dfa()` for more information.\n",
            "  category=NeuroKitWarning,\n",
            "/usr/local/lib/python3.7/dist-packages/neurokit2/complexity/entropy_multiscale.py:347: RuntimeWarning: invalid value encountered in double_scalars\n",
            "  mse = np.trapz(mse) / len(mse)\n",
            "/usr/local/lib/python3.7/dist-packages/neurokit2/complexity/optim_complexity_k.py:134: RuntimeWarning: divide by zero encountered in true_divide\n",
            "  normalization = (n - 1) / (np.floor((n - k_subrange) / k).astype(int) * k)\n",
            "/usr/local/lib/python3.7/dist-packages/neurokit2/complexity/optim_complexity_k.py:135: RuntimeWarning: invalid value encountered in multiply\n",
            "  sets = (np.nansum(np.abs(np.diff(sig_values)), axis=1) * normalization) / k\n",
            "/usr/local/lib/python3.7/dist-packages/neurokit2/hrv/hrv_nonlinear.py:446: NeuroKitWarning: DFA_alpha2 related indices will not be calculated. The maximum duration of the windows provided for the long-term correlation is smaller than the minimum duration of windows. Refer to the `scale` argument in `nk.fractal_dfa()` for more information.\n",
            "  category=NeuroKitWarning,\n",
            "/usr/local/lib/python3.7/dist-packages/neurokit2/complexity/entropy_multiscale.py:347: RuntimeWarning: invalid value encountered in double_scalars\n",
            "  mse = np.trapz(mse) / len(mse)\n",
            "/usr/local/lib/python3.7/dist-packages/neurokit2/complexity/optim_complexity_k.py:134: RuntimeWarning: divide by zero encountered in true_divide\n",
            "  normalization = (n - 1) / (np.floor((n - k_subrange) / k).astype(int) * k)\n",
            "/usr/local/lib/python3.7/dist-packages/neurokit2/complexity/optim_complexity_k.py:135: RuntimeWarning: invalid value encountered in multiply\n",
            "  sets = (np.nansum(np.abs(np.diff(sig_values)), axis=1) * normalization) / k\n",
            "/usr/local/lib/python3.7/dist-packages/neurokit2/hrv/hrv_nonlinear.py:446: NeuroKitWarning: DFA_alpha2 related indices will not be calculated. The maximum duration of the windows provided for the long-term correlation is smaller than the minimum duration of windows. Refer to the `scale` argument in `nk.fractal_dfa()` for more information.\n",
            "  category=NeuroKitWarning,\n",
            "/usr/local/lib/python3.7/dist-packages/neurokit2/complexity/entropy_multiscale.py:347: RuntimeWarning: invalid value encountered in double_scalars\n",
            "  mse = np.trapz(mse) / len(mse)\n",
            "/usr/local/lib/python3.7/dist-packages/neurokit2/complexity/optim_complexity_k.py:134: RuntimeWarning: divide by zero encountered in true_divide\n",
            "  normalization = (n - 1) / (np.floor((n - k_subrange) / k).astype(int) * k)\n",
            "/usr/local/lib/python3.7/dist-packages/neurokit2/complexity/optim_complexity_k.py:135: RuntimeWarning: invalid value encountered in multiply\n",
            "  sets = (np.nansum(np.abs(np.diff(sig_values)), axis=1) * normalization) / k\n",
            "/usr/local/lib/python3.7/dist-packages/neurokit2/hrv/hrv_nonlinear.py:446: NeuroKitWarning: DFA_alpha2 related indices will not be calculated. The maximum duration of the windows provided for the long-term correlation is smaller than the minimum duration of windows. Refer to the `scale` argument in `nk.fractal_dfa()` for more information.\n",
            "  category=NeuroKitWarning,\n",
            "/usr/local/lib/python3.7/dist-packages/neurokit2/complexity/entropy_multiscale.py:347: RuntimeWarning: invalid value encountered in double_scalars\n",
            "  mse = np.trapz(mse) / len(mse)\n",
            "/usr/local/lib/python3.7/dist-packages/neurokit2/complexity/optim_complexity_k.py:134: RuntimeWarning: divide by zero encountered in true_divide\n",
            "  normalization = (n - 1) / (np.floor((n - k_subrange) / k).astype(int) * k)\n",
            "/usr/local/lib/python3.7/dist-packages/neurokit2/complexity/optim_complexity_k.py:135: RuntimeWarning: invalid value encountered in multiply\n",
            "  sets = (np.nansum(np.abs(np.diff(sig_values)), axis=1) * normalization) / k\n",
            "/usr/local/lib/python3.7/dist-packages/neurokit2/hrv/hrv_nonlinear.py:446: NeuroKitWarning: DFA_alpha2 related indices will not be calculated. The maximum duration of the windows provided for the long-term correlation is smaller than the minimum duration of windows. Refer to the `scale` argument in `nk.fractal_dfa()` for more information.\n",
            "  category=NeuroKitWarning,\n",
            "/usr/local/lib/python3.7/dist-packages/neurokit2/complexity/entropy_multiscale.py:347: RuntimeWarning: invalid value encountered in double_scalars\n",
            "  mse = np.trapz(mse) / len(mse)\n",
            "/usr/local/lib/python3.7/dist-packages/neurokit2/complexity/optim_complexity_k.py:134: RuntimeWarning: divide by zero encountered in true_divide\n",
            "  normalization = (n - 1) / (np.floor((n - k_subrange) / k).astype(int) * k)\n",
            "/usr/local/lib/python3.7/dist-packages/neurokit2/complexity/optim_complexity_k.py:135: RuntimeWarning: invalid value encountered in multiply\n",
            "  sets = (np.nansum(np.abs(np.diff(sig_values)), axis=1) * normalization) / k\n",
            "/usr/local/lib/python3.7/dist-packages/neurokit2/hrv/hrv_nonlinear.py:446: NeuroKitWarning: DFA_alpha2 related indices will not be calculated. The maximum duration of the windows provided for the long-term correlation is smaller than the minimum duration of windows. Refer to the `scale` argument in `nk.fractal_dfa()` for more information.\n",
            "  category=NeuroKitWarning,\n",
            "/usr/local/lib/python3.7/dist-packages/neurokit2/complexity/entropy_multiscale.py:347: RuntimeWarning: invalid value encountered in double_scalars\n",
            "  mse = np.trapz(mse) / len(mse)\n",
            "/usr/local/lib/python3.7/dist-packages/neurokit2/complexity/optim_complexity_k.py:134: RuntimeWarning: divide by zero encountered in true_divide\n",
            "  normalization = (n - 1) / (np.floor((n - k_subrange) / k).astype(int) * k)\n",
            "/usr/local/lib/python3.7/dist-packages/neurokit2/complexity/optim_complexity_k.py:135: RuntimeWarning: invalid value encountered in multiply\n",
            "  sets = (np.nansum(np.abs(np.diff(sig_values)), axis=1) * normalization) / k\n",
            "/usr/local/lib/python3.7/dist-packages/neurokit2/hrv/hrv_nonlinear.py:446: NeuroKitWarning: DFA_alpha2 related indices will not be calculated. The maximum duration of the windows provided for the long-term correlation is smaller than the minimum duration of windows. Refer to the `scale` argument in `nk.fractal_dfa()` for more information.\n",
            "  category=NeuroKitWarning,\n",
            "/usr/local/lib/python3.7/dist-packages/neurokit2/complexity/entropy_multiscale.py:347: RuntimeWarning: invalid value encountered in double_scalars\n",
            "  mse = np.trapz(mse) / len(mse)\n",
            "/usr/local/lib/python3.7/dist-packages/neurokit2/complexity/optim_complexity_k.py:134: RuntimeWarning: divide by zero encountered in true_divide\n",
            "  normalization = (n - 1) / (np.floor((n - k_subrange) / k).astype(int) * k)\n",
            "/usr/local/lib/python3.7/dist-packages/neurokit2/complexity/optim_complexity_k.py:135: RuntimeWarning: invalid value encountered in multiply\n",
            "  sets = (np.nansum(np.abs(np.diff(sig_values)), axis=1) * normalization) / k\n"
          ]
        },
        {
          "output_type": "stream",
          "name": "stdout",
          "text": [
            " ### ECG de 30 segundos\n"
          ]
        },
        {
          "output_type": "stream",
          "name": "stderr",
          "text": [
            "/usr/local/lib/python3.7/dist-packages/neurokit2/hrv/hrv_nonlinear.py:446: NeuroKitWarning: DFA_alpha2 related indices will not be calculated. The maximum duration of the windows provided for the long-term correlation is smaller than the minimum duration of windows. Refer to the `scale` argument in `nk.fractal_dfa()` for more information.\n",
            "  category=NeuroKitWarning,\n",
            "/usr/local/lib/python3.7/dist-packages/neurokit2/hrv/hrv_nonlinear.py:446: NeuroKitWarning: DFA_alpha2 related indices will not be calculated. The maximum duration of the windows provided for the long-term correlation is smaller than the minimum duration of windows. Refer to the `scale` argument in `nk.fractal_dfa()` for more information.\n",
            "  category=NeuroKitWarning,\n",
            "/usr/local/lib/python3.7/dist-packages/neurokit2/hrv/hrv_nonlinear.py:446: NeuroKitWarning: DFA_alpha2 related indices will not be calculated. The maximum duration of the windows provided for the long-term correlation is smaller than the minimum duration of windows. Refer to the `scale` argument in `nk.fractal_dfa()` for more information.\n",
            "  category=NeuroKitWarning,\n",
            "/usr/local/lib/python3.7/dist-packages/neurokit2/hrv/hrv_nonlinear.py:446: NeuroKitWarning: DFA_alpha2 related indices will not be calculated. The maximum duration of the windows provided for the long-term correlation is smaller than the minimum duration of windows. Refer to the `scale` argument in `nk.fractal_dfa()` for more information.\n",
            "  category=NeuroKitWarning,\n",
            "/usr/local/lib/python3.7/dist-packages/neurokit2/hrv/hrv_nonlinear.py:446: NeuroKitWarning: DFA_alpha2 related indices will not be calculated. The maximum duration of the windows provided for the long-term correlation is smaller than the minimum duration of windows. Refer to the `scale` argument in `nk.fractal_dfa()` for more information.\n",
            "  category=NeuroKitWarning,\n",
            "/usr/local/lib/python3.7/dist-packages/neurokit2/hrv/hrv_nonlinear.py:446: NeuroKitWarning: DFA_alpha2 related indices will not be calculated. The maximum duration of the windows provided for the long-term correlation is smaller than the minimum duration of windows. Refer to the `scale` argument in `nk.fractal_dfa()` for more information.\n",
            "  category=NeuroKitWarning,\n",
            "/usr/local/lib/python3.7/dist-packages/neurokit2/hrv/hrv_nonlinear.py:446: NeuroKitWarning: DFA_alpha2 related indices will not be calculated. The maximum duration of the windows provided for the long-term correlation is smaller than the minimum duration of windows. Refer to the `scale` argument in `nk.fractal_dfa()` for more information.\n",
            "  category=NeuroKitWarning,\n",
            "/usr/local/lib/python3.7/dist-packages/neurokit2/hrv/hrv_nonlinear.py:446: NeuroKitWarning: DFA_alpha2 related indices will not be calculated. The maximum duration of the windows provided for the long-term correlation is smaller than the minimum duration of windows. Refer to the `scale` argument in `nk.fractal_dfa()` for more information.\n",
            "  category=NeuroKitWarning,\n",
            "/usr/local/lib/python3.7/dist-packages/neurokit2/hrv/hrv_nonlinear.py:446: NeuroKitWarning: DFA_alpha2 related indices will not be calculated. The maximum duration of the windows provided for the long-term correlation is smaller than the minimum duration of windows. Refer to the `scale` argument in `nk.fractal_dfa()` for more information.\n",
            "  category=NeuroKitWarning,\n"
          ]
        },
        {
          "output_type": "stream",
          "name": "stdout",
          "text": [
            " ### ECG de 60 segundos\n"
          ]
        },
        {
          "output_type": "stream",
          "name": "stderr",
          "text": [
            "/usr/local/lib/python3.7/dist-packages/neurokit2/hrv/hrv_nonlinear.py:446: NeuroKitWarning: DFA_alpha2 related indices will not be calculated. The maximum duration of the windows provided for the long-term correlation is smaller than the minimum duration of windows. Refer to the `scale` argument in `nk.fractal_dfa()` for more information.\n",
            "  category=NeuroKitWarning,\n",
            "/usr/local/lib/python3.7/dist-packages/neurokit2/hrv/hrv_nonlinear.py:446: NeuroKitWarning: DFA_alpha2 related indices will not be calculated. The maximum duration of the windows provided for the long-term correlation is smaller than the minimum duration of windows. Refer to the `scale` argument in `nk.fractal_dfa()` for more information.\n",
            "  category=NeuroKitWarning,\n",
            "/usr/local/lib/python3.7/dist-packages/neurokit2/hrv/hrv_nonlinear.py:446: NeuroKitWarning: DFA_alpha2 related indices will not be calculated. The maximum duration of the windows provided for the long-term correlation is smaller than the minimum duration of windows. Refer to the `scale` argument in `nk.fractal_dfa()` for more information.\n",
            "  category=NeuroKitWarning,\n",
            "/usr/local/lib/python3.7/dist-packages/neurokit2/hrv/hrv_nonlinear.py:446: NeuroKitWarning: DFA_alpha2 related indices will not be calculated. The maximum duration of the windows provided for the long-term correlation is smaller than the minimum duration of windows. Refer to the `scale` argument in `nk.fractal_dfa()` for more information.\n",
            "  category=NeuroKitWarning,\n"
          ]
        }
      ]
    },
    {
      "cell_type": "code",
      "source": [
        "feature_vector[\"SINAL\"] = sinais\n",
        "feature_vector[\"ECG_Clean\"] = ecg_clean\n",
        "feature_vector[\"ECG_Quality\"] = ecg_quality"
      ],
      "metadata": {
        "id": "K_v6blGz6ICz"
      },
      "execution_count": 9,
      "outputs": []
    },
    {
      "cell_type": "code",
      "source": [
        "ecg_signals, info = nk.ecg_process(dados[:,0], sampling_rate=SAMPLING_RATE_HZ)"
      ],
      "metadata": {
        "id": "YTeMAjJI4jpD"
      },
      "execution_count": 10,
      "outputs": []
    },
    {
      "cell_type": "code",
      "source": [
        "analyze = nk.ecg_analyze(ecg_signals, sampling_rate=SAMPLING_RATE_HZ)"
      ],
      "metadata": {
        "id": "2quRikFq9GPG"
      },
      "execution_count": 11,
      "outputs": []
    },
    {
      "cell_type": "code",
      "source": [
        "analyze[\"SINAL\"] = (len(dados) / SAMPLING_RATE_HZ)\n",
        "analyze[\"ECG_Clean\"] = ecg_signals[\"ECG_Clean\"]\n",
        "analyze[\"ECG_Quality\"] = ecg_signals[\"ECG_Quality\"]"
      ],
      "metadata": {
        "id": "v4CQPmcPCXxo"
      },
      "execution_count": 12,
      "outputs": []
    },
    {
      "cell_type": "code",
      "source": [
        "feature_vector = pd.concat((feature_vector, analyze), ignore_index=True)"
      ],
      "metadata": {
        "id": "Cpe0TVdJC16f"
      },
      "execution_count": 13,
      "outputs": []
    },
    {
      "cell_type": "code",
      "source": [
        "feature_vector.to_excel(\"/content/drive/MyDrive/Doutorado/comparativo_sinais_mesmo_paciente_12_06.xlsx\", index=None)"
      ],
      "metadata": {
        "id": "_Kb1oQ4HDF3E"
      },
      "execution_count": 14,
      "outputs": []
    }
  ]
}