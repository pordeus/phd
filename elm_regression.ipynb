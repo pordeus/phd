{
  "cells": [
    {
      "cell_type": "markdown",
      "metadata": {
        "id": "view-in-github",
        "colab_type": "text"
      },
      "source": [
        "<a href=\"https://colab.research.google.com/github/pordeus/phd/blob/main/elm_regression.ipynb\" target=\"_parent\"><img src=\"https://colab.research.google.com/assets/colab-badge.svg\" alt=\"Open In Colab\"/></a>"
      ]
    },
    {
      "cell_type": "markdown",
      "source": [
        "### ELM ###"
      ],
      "metadata": {
        "id": "brYY2wcRJtfa"
      },
      "id": "brYY2wcRJtfa"
    },
    {
      "cell_type": "code",
      "source": [
        "from google.colab import drive\n",
        "drive.mount('/content/drive')"
      ],
      "metadata": {
        "colab": {
          "base_uri": "https://localhost:8080/"
        },
        "id": "VySKVmLWntfD",
        "outputId": "fe8ed913-e38e-43ff-ce41-018077908785"
      },
      "id": "VySKVmLWntfD",
      "execution_count": null,
      "outputs": [
        {
          "output_type": "stream",
          "name": "stdout",
          "text": [
            "Drive already mounted at /content/drive; to attempt to forcibly remount, call drive.mount(\"/content/drive\", force_remount=True).\n"
          ]
        }
      ]
    },
    {
      "cell_type": "code",
      "source": [
        "import numpy as np\n",
        "from sklearn.preprocessing import OneHotEncoder\n",
        "from scipy.special import softmax\n",
        "\n",
        "def relu(x):\n",
        "    return x * (x > 0)\n",
        "\n",
        "def sigmoid(x):\n",
        "    return x / (1 + np.exp(x))\n",
        "    \n",
        "def linear(x):\n",
        "    return x\n",
        "\n",
        "class ELMBase:\n",
        "    def __init__(self, n_hiddens=128, random_state=12, activation=linear):\n",
        "        self.n_hiddens = n_hiddens\n",
        "        self.rs = np.random.RandomState(random_state)\n",
        "        self.activation = activation\n",
        "    \n",
        "    \n",
        "class ELMRegressor(ELMBase):\n",
        "    def __init__(self, n_hiddens=128, random_state=12):\n",
        "        ELMBase.__init__(self, n_hiddens, random_state, linear)\n",
        "        \n",
        "    def fit(self, X, y):\n",
        "        self.W = self.rs.normal(size=(X.shape[1], self.n_hiddens))\n",
        "        self.b = self.rs.normal(size=(self.n_hiddens))\n",
        "        y = y.reshape(-1, 1)\n",
        "        \n",
        "        H = self.activation(X.dot(self.W) + self.b)\n",
        "        self.Beta = np.linalg.pinv(H).dot(y)\n",
        "        return self\n",
        "    \n",
        "    def predict(self, X):\n",
        "        H = self.activation(X.dot(self.W) + self.b)\n",
        "        dot_product = H.dot(self.Beta)\n",
        "        return dot_product\n",
        "    \n",
        "    \n",
        "class ELMClassifier(ELMBase):\n",
        "    def __init__(self, n_hiddens=128, random_state=12):\n",
        "        ELMBase.__init__(self, n_hiddens, random_state, relu)\n",
        "        self.output_activation = softmax\n",
        "        self.encoder = OneHotEncoder()\n",
        "        \n",
        "    def fit(self, X, y):\n",
        "        self.W = self.rs.normal(size=(X.shape[1], self.n_hiddens))\n",
        "        self.b = self.rs.normal(size=(self.n_hiddens))\n",
        "        y = self.encoder.fit_transform(y.reshape(-1, 1)).toarray()\n",
        "        \n",
        "        H = self.activation(X.dot(self.W) + self.b)\n",
        "        self.Beta = np.linalg.pinv(H).dot(y)\n",
        "        return self\n",
        "\n",
        "    def predict(self, X):\n",
        "        return np.argmax(self.predict_proba(X), axis=1)\n",
        "    \n",
        "    def predict_proba(self, X):\n",
        "        H = self.activation(X.dot(self.W) + self.b)\n",
        "        dot_product = H.dot(self.Beta)\n",
        "        return self.output_activation(dot_product)"
      ],
      "metadata": {
        "id": "P-K44Q1zHvXQ"
      },
      "id": "P-K44Q1zHvXQ",
      "execution_count": null,
      "outputs": []
    },
    {
      "cell_type": "markdown",
      "source": [
        "### MAIN ###"
      ],
      "metadata": {
        "id": "f0ASd-BaIAVH"
      },
      "id": "f0ASd-BaIAVH"
    },
    {
      "cell_type": "code",
      "source": [
        "import time\n",
        "from sklearn.metrics import mean_squared_error\n",
        "from tensorflow.keras.datasets import boston_housing\n",
        "import pandas as pd\n",
        "\n",
        "from sklearn.linear_model import Ridge\n",
        "from sklearn.svm import SVR\n",
        "from sklearn.neighbors import KNeighborsRegressor\n",
        "from sklearn.tree import DecisionTreeRegressor\n",
        "from sklearn.ensemble import RandomForestRegressor\n",
        "from sklearn.neural_network import MLPRegressor"
      ],
      "metadata": {
        "id": "hwAubJ5EH0G-"
      },
      "id": "hwAubJ5EH0G-",
      "execution_count": null,
      "outputs": []
    },
    {
      "cell_type": "code",
      "source": [
        "dataset = pd.read_excel('/content/drive/MyDrive/Doutorado/Dataset/Dataset_clinico_orto.xlsx')"
      ],
      "metadata": {
        "id": "g-hhLwF5I9Jb"
      },
      "id": "g-hhLwF5I9Jb",
      "execution_count": null,
      "outputs": []
    },
    {
      "cell_type": "code",
      "source": [
        "y = dataset['Tempo de internação'] #['Classificação de gravidade']\n",
        "X = dataset.drop(['Tempo de internação'], axis=1)\n",
        "Xtrain = np.array(X[:36])\n",
        "Xtest = np.array(X[36:])\n",
        "ytrain = np.array(y[:36])\n",
        "ytest = np.array(y[36:])"
      ],
      "metadata": {
        "id": "AGoIppfyJL0D"
      },
      "id": "AGoIppfyJL0D",
      "execution_count": null,
      "outputs": []
    },
    {
      "cell_type": "code",
      "source": [
        "ytrain = ytrain.reshape(ytrain.shape[0],1)\n",
        "ytest = ytest.reshape(ytest.shape[0],1)"
      ],
      "metadata": {
        "id": "QY7JZZEeKW57"
      },
      "id": "QY7JZZEeKW57",
      "execution_count": null,
      "outputs": []
    },
    {
      "cell_type": "code",
      "source": [
        "ytrain"
      ],
      "metadata": {
        "colab": {
          "base_uri": "https://localhost:8080/"
        },
        "id": "bCEp7FQZMieP",
        "outputId": "0d4991cb-cd4c-40bf-e426-80b16dd536ed"
      },
      "id": "bCEp7FQZMieP",
      "execution_count": null,
      "outputs": [
        {
          "output_type": "execute_result",
          "data": {
            "text/plain": [
              "array([[11],\n",
              "       [ 7],\n",
              "       [ 3],\n",
              "       [10],\n",
              "       [ 7],\n",
              "       [37],\n",
              "       [88],\n",
              "       [28],\n",
              "       [ 7],\n",
              "       [ 2],\n",
              "       [45],\n",
              "       [20],\n",
              "       [ 3],\n",
              "       [19],\n",
              "       [12],\n",
              "       [15],\n",
              "       [11],\n",
              "       [ 8],\n",
              "       [43],\n",
              "       [ 8],\n",
              "       [25],\n",
              "       [ 3],\n",
              "       [ 9],\n",
              "       [13],\n",
              "       [10],\n",
              "       [11],\n",
              "       [20],\n",
              "       [ 5],\n",
              "       [ 3],\n",
              "       [ 5],\n",
              "       [ 3],\n",
              "       [13],\n",
              "       [25],\n",
              "       [11],\n",
              "       [17],\n",
              "       [ 7]])"
            ]
          },
          "metadata": {},
          "execution_count": 8
        }
      ]
    },
    {
      "cell_type": "code",
      "execution_count": null,
      "id": "9483fdf1-25b6-48ef-9cc1-e204b75d4ae5",
      "metadata": {
        "id": "9483fdf1-25b6-48ef-9cc1-e204b75d4ae5"
      },
      "outputs": [],
      "source": [
        "random_state = 12"
      ]
    },
    {
      "cell_type": "code",
      "execution_count": null,
      "id": "246a5a55-71f2-49ce-bda0-23ed2bc9b563",
      "metadata": {
        "id": "246a5a55-71f2-49ce-bda0-23ed2bc9b563"
      },
      "outputs": [],
      "source": [
        "n_hiddens = 256\n",
        "\n",
        "algorithms = [\n",
        "    ('ELM', ELMRegressor(n_hiddens=n_hiddens, random_state=random_state)),\n",
        "    ('Ridge Regression', Ridge(random_state=random_state)),\n",
        "    ('Support Vector Machine', SVR()),\n",
        "    ('K-Nearest Neighbors', KNeighborsRegressor()),\n",
        "    ('Decision Tree', DecisionTreeRegressor(random_state=random_state)),\n",
        "    ('Random Forest', RandomForestRegressor(random_state=random_state)),\n",
        "    ('Perceptron (back-propagation)', MLPRegressor(hidden_layer_sizes=(n_hiddens,), random_state=random_state))\n",
        "]"
      ]
    },
    {
      "cell_type": "code",
      "execution_count": null,
      "id": "aee138d7-ba9e-445c-939d-003c4ddfb03c",
      "metadata": {
        "colab": {
          "base_uri": "https://localhost:8080/"
        },
        "id": "aee138d7-ba9e-445c-939d-003c4ddfb03c",
        "outputId": "e0d96073-0870-4cf7-90f2-5fbfca9be2bb"
      },
      "outputs": [
        {
          "output_type": "stream",
          "name": "stdout",
          "text": [
            "ELM cost 35.27 miliseconds\n",
            "Ridge Regression cost 24.63 miliseconds\n",
            "Support Vector Machine cost 2.27 miliseconds\n",
            "K-Nearest Neighbors cost 0.38 miliseconds\n",
            "Decision Tree cost 1.21 miliseconds\n",
            "Random Forest cost 158.23 miliseconds\n"
          ]
        },
        {
          "output_type": "stream",
          "name": "stderr",
          "text": [
            "/usr/local/lib/python3.7/dist-packages/sklearn/utils/validation.py:993: DataConversionWarning: A column-vector y was passed when a 1d array was expected. Please change the shape of y to (n_samples, ), for example using ravel().\n",
            "  y = column_or_1d(y, warn=True)\n",
            "/usr/local/lib/python3.7/dist-packages/ipykernel_launcher.py:3: DataConversionWarning: A column-vector y was passed when a 1d array was expected. Please change the shape of y to (n_samples,), for example using ravel().\n",
            "  This is separate from the ipykernel package so we can avoid doing imports until\n",
            "/usr/local/lib/python3.7/dist-packages/sklearn/neural_network/_multilayer_perceptron.py:1599: DataConversionWarning: A column-vector y was passed when a 1d array was expected. Please change the shape of y to (n_samples, ), for example using ravel().\n",
            "  y = column_or_1d(y, warn=True)\n"
          ]
        },
        {
          "output_type": "stream",
          "name": "stdout",
          "text": [
            "Perceptron (back-propagation) cost 48.62 miliseconds\n"
          ]
        }
      ],
      "source": [
        "for name, model in algorithms:\n",
        "    start_time = time.perf_counter()\n",
        "    model.fit(Xtrain, ytrain)\n",
        "    end_time = time.perf_counter()\n",
        "    \n",
        "    consumed_time = round((end_time - start_time) * 1000, 2)\n",
        "    print(f'{name} cost {consumed_time} miliseconds')"
      ]
    },
    {
      "cell_type": "code",
      "execution_count": null,
      "id": "ecbfcbca-32e6-4686-ad7b-8247eea7c6fa",
      "metadata": {
        "id": "ecbfcbca-32e6-4686-ad7b-8247eea7c6fa",
        "colab": {
          "base_uri": "https://localhost:8080/"
        },
        "outputId": "373ac93b-c4de-4406-dfe4-321e8288f460"
      },
      "outputs": [
        {
          "output_type": "stream",
          "name": "stdout",
          "text": [
            "ELM has RMSE train: 12.22, RMSE test: 24.64\n",
            "Ridge Regression has RMSE train: 12.28, RMSE test: 23.2\n",
            "Support Vector Machine has RMSE train: 16.99, RMSE test: 17.95\n",
            "K-Nearest Neighbors has RMSE train: 14.69, RMSE test: 17.8\n",
            "Decision Tree has RMSE train: 0.0, RMSE test: 30.64\n",
            "Random Forest has RMSE train: 5.87, RMSE test: 23.56\n",
            "Perceptron (back-propagation) has RMSE train: 1768.3, RMSE test: 2300.2\n"
          ]
        }
      ],
      "source": [
        "for name, model in algorithms:\n",
        "    \n",
        "    train_pred = model.predict(Xtrain)\n",
        "    test_pred = model.predict(Xtest)\n",
        "\n",
        "    rmse_train = round(mean_squared_error(ytrain, train_pred, squared=False), 2)\n",
        "    rmse_test = round(mean_squared_error(ytest, test_pred, squared=False), 2)\n",
        "\n",
        "    print(f'{name} has RMSE train: {rmse_train}, RMSE test: {rmse_test}')"
      ]
    }
  ],
  "metadata": {
    "kernelspec": {
      "display_name": "default:Python",
      "language": "python",
      "name": "conda-env-default-py"
    },
    "language_info": {
      "codemirror_mode": {
        "name": "ipython",
        "version": 3
      },
      "file_extension": ".py",
      "mimetype": "text/x-python",
      "name": "python",
      "nbconvert_exporter": "python",
      "pygments_lexer": "ipython3",
      "version": "3.9.7"
    },
    "colab": {
      "name": "elm_regression.ipynb",
      "provenance": [],
      "include_colab_link": true
    }
  },
  "nbformat": 4,
  "nbformat_minor": 5
}