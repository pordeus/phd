{
  "nbformat": 4,
  "nbformat_minor": 0,
  "metadata": {
    "colab": {
      "name": "data_loader_test.ipynb",
      "provenance": [],
      "mount_file_id": "1uj9xM56nhvDvTX2OFKUFSrrSssiFxAT8",
      "authorship_tag": "ABX9TyMvOjqK0oqZkotw6C4V7C87",
      "include_colab_link": true
    },
    "kernelspec": {
      "name": "python3",
      "display_name": "Python 3"
    },
    "language_info": {
      "name": "python"
    }
  },
  "cells": [
    {
      "cell_type": "markdown",
      "metadata": {
        "id": "view-in-github",
        "colab_type": "text"
      },
      "source": [
        "<a href=\"https://colab.research.google.com/github/pordeus/phd/blob/main/data_loader_test.ipynb\" target=\"_parent\"><img src=\"https://colab.research.google.com/assets/colab-badge.svg\" alt=\"Open In Colab\"/></a>"
      ]
    },
    {
      "cell_type": "code",
      "execution_count": null,
      "metadata": {
        "colab": {
          "base_uri": "https://localhost:8080/"
        },
        "id": "zAOcXXW8HGWH",
        "outputId": "152f9959-2815-4ea8-8ff1-53aa60a8a007"
      },
      "outputs": [
        {
          "output_type": "stream",
          "name": "stdout",
          "text": [
            "Processing ./drive/MyDrive/Doutorado/data_loader/data_loader/dist/data_loader-0.1.9-py3-none-any.whl\n",
            "Collecting imbalanced-learn==0.7.0\n",
            "  Downloading imbalanced_learn-0.7.0-py3-none-any.whl (167 kB)\n",
            "\u001b[K     |████████████████████████████████| 167 kB 2.6 MB/s \n",
            "\u001b[?25hRequirement already satisfied: numpy in /usr/local/lib/python3.7/dist-packages (from data-loader==0.1.9) (1.21.5)\n",
            "Requirement already satisfied: scikit-learn in /usr/local/lib/python3.7/dist-packages (from data-loader==0.1.9) (1.0.2)\n",
            "Requirement already satisfied: pandas in /usr/local/lib/python3.7/dist-packages (from data-loader==0.1.9) (1.3.5)\n",
            "Requirement already satisfied: tqdm in /usr/local/lib/python3.7/dist-packages (from data-loader==0.1.9) (4.63.0)\n",
            "Requirement already satisfied: joblib>=0.11 in /usr/local/lib/python3.7/dist-packages (from imbalanced-learn==0.7.0->data-loader==0.1.9) (1.1.0)\n",
            "Requirement already satisfied: scipy>=0.19.1 in /usr/local/lib/python3.7/dist-packages (from imbalanced-learn==0.7.0->data-loader==0.1.9) (1.4.1)\n",
            "Requirement already satisfied: threadpoolctl>=2.0.0 in /usr/local/lib/python3.7/dist-packages (from scikit-learn->data-loader==0.1.9) (3.1.0)\n",
            "Requirement already satisfied: python-dateutil>=2.7.3 in /usr/local/lib/python3.7/dist-packages (from pandas->data-loader==0.1.9) (2.8.2)\n",
            "Requirement already satisfied: pytz>=2017.3 in /usr/local/lib/python3.7/dist-packages (from pandas->data-loader==0.1.9) (2018.9)\n",
            "Requirement already satisfied: six>=1.5 in /usr/local/lib/python3.7/dist-packages (from python-dateutil>=2.7.3->pandas->data-loader==0.1.9) (1.15.0)\n",
            "Installing collected packages: imbalanced-learn, data-loader\n",
            "  Attempting uninstall: imbalanced-learn\n",
            "    Found existing installation: imbalanced-learn 0.8.1\n",
            "    Uninstalling imbalanced-learn-0.8.1:\n",
            "      Successfully uninstalled imbalanced-learn-0.8.1\n",
            "Successfully installed data-loader-0.1.9 imbalanced-learn-0.7.0\n"
          ]
        }
      ],
      "source": [
        "!pip install /content/drive/MyDrive/Doutorado/data_loader/data_loader/dist/data_loader-0.1.9-py3-none-any.whl"
      ]
    },
    {
      "cell_type": "code",
      "source": [
        "from data_loader import ClinicalData, DataLoader, FeatureSnap"
      ],
      "metadata": {
        "id": "NePiEaoSHfvj"
      },
      "execution_count": null,
      "outputs": []
    },
    {
      "cell_type": "code",
      "source": [
        "filepath=\"/content/drive/MyDrive/Doutorado/data_loader/chagas_anonymous_10_02_20.csv\""
      ],
      "metadata": {
        "id": "yR8KsfOkH3mi"
      },
      "execution_count": null,
      "outputs": []
    },
    {
      "cell_type": "code",
      "source": [
        "# importando dados\n",
        "# parametros:\n",
        "# keep : all, first, last: indica o retorno de todos os sinais por pacientes, ou somente o primeiro\n",
        "# ou o ultimo deles\n",
        "# remove_others: True ou False: Indica se os sinais de outras fatalidades devem ou não ser removidos.\n",
        "# caso sejam mantidos, eles seram rotulados como não mortos por chagas.\n",
        "\n",
        "todos_os_dados_nao_remove_outras_fatalidades  = ClinicalData(filepath=filepath,\n",
        "                                                             keep=\"all\",\n",
        "                                                             remove_others=False).get_selected_data()\n",
        "todos_os_dados_remove_outras_fatalidades  = ClinicalData(filepath=filepath,\n",
        "                                                         keep=\"all\",\n",
        "                                                         remove_others=True).get_selected_data()\n",
        "ultimos_sinais_por_paciente_nao_remove_outras_fatalidades = ClinicalData(filepath=filepath,\n",
        "                                                                         keep=\"last\",\n",
        "                                                                         remove_others=False).get_selected_data()\n",
        "ultimos_sinais_por_paciente_remove_outras_fatalidades = ClinicalData(filepath=filepath,\n",
        "                                                                     keep=\"last\",\n",
        "                                                                     remove_others=True).get_selected_data()"
      ],
      "metadata": {
        "id": "2oOQQx_rIH_A"
      },
      "execution_count": null,
      "outputs": []
    },
    {
      "cell_type": "code",
      "source": [
        "raw_folder_path = \"/content/drive/MyDrive/Doutorado/DAT\"\n",
        "processed_folder_path = \"/content/drive/MyDrive/Doutorado/Processado\"\n",
        "# ecg files in \"folder_path + \"/data/processed/\"\n",
        "\n",
        "data  = ClinicalData(filepath=filepath, keep=\"all\", remove_others=False).get_selected_data()\n",
        "print(data) \n",
        "loader = DataLoader(data=data, raw_folder_path=raw_folder_path, processed_folder_path=processed_folder_path)\n",
        "# o passo de extração só precisa ser feito uma única vez contendo todos os dados\n",
        "loader.extract(file_name=\"{:03d}.DAT\")\n",
        "loader.load()"
      ],
      "metadata": {
        "colab": {
          "base_uri": "https://localhost:8080/",
          "height": 1000
        },
        "id": "lzcVbrsNIMMG",
        "outputId": "ffb68bd5-0f9f-4193-87fb-b0df72ee74dd"
      },
      "execution_count": null,
      "outputs": [
        {
          "output_type": "stream",
          "name": "stdout",
          "text": [
            "     Sexo  BMI   Cancer  HAS  DM2  Cardiopatia Outra  Marcapasso  Sincope  \\\n",
            "0     0.0  29.0     0.0  1.0  1.0                0.0         0.0      0.0   \n",
            "1     0.0  27.0     0.0  0.0  0.0                0.0         1.0      0.0   \n",
            "2     0.0  27.0     0.0  1.0  0.0                0.0         0.0      0.0   \n",
            "3     0.0  29.0     1.0  1.0  0.0                0.0         0.0      0.0   \n",
            "4     1.0  29.0     0.0  1.0  0.0                0.0         0.0      1.0   \n",
            "..    ...   ...     ...  ...  ...                ...         ...      ...   \n",
            "337   0.0  27.0     0.0  1.0  0.0                0.0         0.0      1.0   \n",
            "338   1.0  25.0     0.0  0.0  1.0                0.0         0.0      0.0   \n",
            "339   1.0  28.0     0.0  0.0  1.0                0.0         0.0      0.0   \n",
            "340   1.0  23.0     0.0  1.0  0.0                0.0         0.0      1.0   \n",
            "341   0.0  27.0     0.0  1.0  0.0                0.0         0.0      0.0   \n",
            "\n",
            "     Fibrilação/Flutter Atrial  I R Crônica  ...  filename  label  \\\n",
            "0                          0.0          0.0  ...       213      0   \n",
            "1                          0.0          0.0  ...       120      0   \n",
            "2                          0.0          0.0  ...       303      0   \n",
            "3                          0.0          0.0  ...       122      0   \n",
            "4                          0.0          0.0  ...       145      1   \n",
            "..                         ...          ...  ...       ...    ...   \n",
            "337                        0.0          1.0  ...       329      0   \n",
            "338                        0.0          0.0  ...         5      0   \n",
            "339                        0.0          0.0  ...         4      0   \n",
            "340                        0.0          0.0  ...       256      1   \n",
            "341                        0.0          0.0  ...       338      0   \n",
            "\n",
            "                 Identificador  Data Holter  filename  label  \\\n",
            "0          Dr. Jonathan Porter   1992-01-30       213      0   \n",
            "1                 Diane Clarke   1992-02-07       120      0   \n",
            "2          Lorraine Bates-Ball   1992-02-19       303      0   \n",
            "3              Mr. Brian Moore   1992-03-10       122      0   \n",
            "4               Eleanor Newman   1992-03-12       145      1   \n",
            "..                         ...          ...       ...    ...   \n",
            "337              Dr. Jade Hall   2013-05-21       329      0   \n",
            "338         Gail Holmes-Norris   2013-05-21         5      0   \n",
            "339         Gail Holmes-Norris   2013-05-22         4      0   \n",
            "340        Lewis Wilson-Barton   2013-05-22       256      1   \n",
            "341  Lesley O'Connor-Griffiths   2013-05-22       338      0   \n",
            "\n",
            "                 Identificador  Data Holter  filename  label  \n",
            "0          Dr. Jonathan Porter   1992-01-30       213      0  \n",
            "1                 Diane Clarke   1992-02-07       120      0  \n",
            "2          Lorraine Bates-Ball   1992-02-19       303      0  \n",
            "3              Mr. Brian Moore   1992-03-10       122      0  \n",
            "4               Eleanor Newman   1992-03-12       145      1  \n",
            "..                         ...          ...       ...    ...  \n",
            "337              Dr. Jade Hall   2013-05-21       329      0  \n",
            "338         Gail Holmes-Norris   2013-05-21         5      0  \n",
            "339         Gail Holmes-Norris   2013-05-22         4      0  \n",
            "340        Lewis Wilson-Barton   2013-05-22       256      1  \n",
            "341  Lesley O'Connor-Griffiths   2013-05-22       338      0  \n",
            "\n",
            "[342 rows x 53 columns]\n",
            "-----------Extracting-------------\n"
          ]
        },
        {
          "output_type": "stream",
          "name": "stderr",
          "text": [
            "  0%|          | 0/342 [00:00<?, ?it/s]\n"
          ]
        },
        {
          "output_type": "error",
          "ename": "TypeError",
          "evalue": "ignored",
          "traceback": [
            "\u001b[0;31m---------------------------------------------------------------------------\u001b[0m",
            "\u001b[0;31mTypeError\u001b[0m                                 Traceback (most recent call last)",
            "\u001b[0;32m<ipython-input-6-b1271cbe1960>\u001b[0m in \u001b[0;36m<module>\u001b[0;34m()\u001b[0m\n\u001b[1;32m      7\u001b[0m \u001b[0mloader\u001b[0m \u001b[0;34m=\u001b[0m \u001b[0mDataLoader\u001b[0m\u001b[0;34m(\u001b[0m\u001b[0mdata\u001b[0m\u001b[0;34m=\u001b[0m\u001b[0mdata\u001b[0m\u001b[0;34m,\u001b[0m \u001b[0mraw_folder_path\u001b[0m\u001b[0;34m=\u001b[0m\u001b[0mraw_folder_path\u001b[0m\u001b[0;34m,\u001b[0m \u001b[0mprocessed_folder_path\u001b[0m\u001b[0;34m=\u001b[0m\u001b[0mprocessed_folder_path\u001b[0m\u001b[0;34m)\u001b[0m\u001b[0;34m\u001b[0m\u001b[0;34m\u001b[0m\u001b[0m\n\u001b[1;32m      8\u001b[0m \u001b[0;31m# o passo de extração só precisa ser feito uma única vez contendo todos os dados\u001b[0m\u001b[0;34m\u001b[0m\u001b[0;34m\u001b[0m\u001b[0;34m\u001b[0m\u001b[0m\n\u001b[0;32m----> 9\u001b[0;31m \u001b[0mloader\u001b[0m\u001b[0;34m.\u001b[0m\u001b[0mextract\u001b[0m\u001b[0;34m(\u001b[0m\u001b[0mfile_name\u001b[0m\u001b[0;34m=\u001b[0m\u001b[0;34m\"{:03d}.DAT\"\u001b[0m\u001b[0;34m)\u001b[0m\u001b[0;34m\u001b[0m\u001b[0;34m\u001b[0m\u001b[0m\n\u001b[0m\u001b[1;32m     10\u001b[0m \u001b[0mloader\u001b[0m\u001b[0;34m.\u001b[0m\u001b[0mload\u001b[0m\u001b[0;34m(\u001b[0m\u001b[0;34m)\u001b[0m\u001b[0;34m\u001b[0m\u001b[0;34m\u001b[0m\u001b[0m\n",
            "\u001b[0;32m/usr/local/lib/python3.7/dist-packages/data_loader/DataLoader.py\u001b[0m in \u001b[0;36mextract\u001b[0;34m(self, file_name)\u001b[0m\n\u001b[1;32m     29\u001b[0m         \u001b[0;32mfor\u001b[0m \u001b[0mi\u001b[0m \u001b[0;32min\u001b[0m \u001b[0mtqdm\u001b[0m\u001b[0;34m(\u001b[0m\u001b[0mrange\u001b[0m\u001b[0;34m(\u001b[0m\u001b[0mlen\u001b[0m\u001b[0;34m(\u001b[0m\u001b[0mself\u001b[0m\u001b[0;34m.\u001b[0m\u001b[0mdata\u001b[0m\u001b[0;34m)\u001b[0m\u001b[0;34m)\u001b[0m\u001b[0;34m)\u001b[0m\u001b[0;34m:\u001b[0m\u001b[0;34m\u001b[0m\u001b[0;34m\u001b[0m\u001b[0m\n\u001b[1;32m     30\u001b[0m             \u001b[0mrow\u001b[0m \u001b[0;34m=\u001b[0m \u001b[0mself\u001b[0m\u001b[0;34m.\u001b[0m\u001b[0mdata\u001b[0m\u001b[0;34m.\u001b[0m\u001b[0miloc\u001b[0m\u001b[0;34m[\u001b[0m\u001b[0mi\u001b[0m\u001b[0;34m,\u001b[0m \u001b[0;34m:\u001b[0m\u001b[0;34m]\u001b[0m\u001b[0;34m\u001b[0m\u001b[0;34m\u001b[0m\u001b[0m\n\u001b[0;32m---> 31\u001b[0;31m             \u001b[0mindex\u001b[0m \u001b[0;34m=\u001b[0m \u001b[0mint\u001b[0m\u001b[0;34m(\u001b[0m\u001b[0mrow\u001b[0m\u001b[0;34m[\u001b[0m\u001b[0;34m\"filename\"\u001b[0m\u001b[0;34m]\u001b[0m\u001b[0;34m)\u001b[0m\u001b[0;34m\u001b[0m\u001b[0;34m\u001b[0m\u001b[0m\n\u001b[0m\u001b[1;32m     32\u001b[0m \u001b[0;34m\u001b[0m\u001b[0m\n\u001b[1;32m     33\u001b[0m             \u001b[0;32mwith\u001b[0m \u001b[0mopen\u001b[0m\u001b[0;34m(\u001b[0m\u001b[0mfile_path\u001b[0m\u001b[0;34m.\u001b[0m\u001b[0mformat\u001b[0m\u001b[0;34m(\u001b[0m\u001b[0mindex\u001b[0m\u001b[0;34m)\u001b[0m\u001b[0;34m,\u001b[0m \u001b[0;34m\"rb\"\u001b[0m\u001b[0;34m)\u001b[0m\u001b[0;32mas\u001b[0m \u001b[0mf\u001b[0m\u001b[0;34m:\u001b[0m\u001b[0;34m\u001b[0m\u001b[0;34m\u001b[0m\u001b[0m\n",
            "\u001b[0;32m/usr/local/lib/python3.7/dist-packages/pandas/core/series.py\u001b[0m in \u001b[0;36mwrapper\u001b[0;34m(self)\u001b[0m\n\u001b[1;32m    183\u001b[0m         \u001b[0;32mif\u001b[0m \u001b[0mlen\u001b[0m\u001b[0;34m(\u001b[0m\u001b[0mself\u001b[0m\u001b[0;34m)\u001b[0m \u001b[0;34m==\u001b[0m \u001b[0;36m1\u001b[0m\u001b[0;34m:\u001b[0m\u001b[0;34m\u001b[0m\u001b[0;34m\u001b[0m\u001b[0m\n\u001b[1;32m    184\u001b[0m             \u001b[0;32mreturn\u001b[0m \u001b[0mconverter\u001b[0m\u001b[0;34m(\u001b[0m\u001b[0mself\u001b[0m\u001b[0;34m.\u001b[0m\u001b[0miloc\u001b[0m\u001b[0;34m[\u001b[0m\u001b[0;36m0\u001b[0m\u001b[0;34m]\u001b[0m\u001b[0;34m)\u001b[0m\u001b[0;34m\u001b[0m\u001b[0;34m\u001b[0m\u001b[0m\n\u001b[0;32m--> 185\u001b[0;31m         \u001b[0;32mraise\u001b[0m \u001b[0mTypeError\u001b[0m\u001b[0;34m(\u001b[0m\u001b[0;34mf\"cannot convert the series to {converter}\"\u001b[0m\u001b[0;34m)\u001b[0m\u001b[0;34m\u001b[0m\u001b[0;34m\u001b[0m\u001b[0m\n\u001b[0m\u001b[1;32m    186\u001b[0m \u001b[0;34m\u001b[0m\u001b[0m\n\u001b[1;32m    187\u001b[0m     \u001b[0mwrapper\u001b[0m\u001b[0;34m.\u001b[0m\u001b[0m__name__\u001b[0m \u001b[0;34m=\u001b[0m \u001b[0;34mf\"__{converter.__name__}__\"\u001b[0m\u001b[0;34m\u001b[0m\u001b[0;34m\u001b[0m\u001b[0m\n",
            "\u001b[0;31mTypeError\u001b[0m: cannot convert the series to <class 'int'>"
          ]
        }
      ]
    }
  ]
}